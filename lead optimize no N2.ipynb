{
 "cells": [
  {
   "cell_type": "code",
   "execution_count": 1,
   "metadata": {},
   "outputs": [],
   "source": [
    "import numpy as np\n",
    "import matplotlib.pyplot as plt\n",
    "from scipy.interpolate import PchipInterpolator, CubicSpline, Akima1DInterpolator\n",
    "import mpmath as mp\n",
    "from scipy.integrate import quad\n",
    "\n",
    "import sympy as sy\n",
    "from sympy.abc import x, z, A, B\n"
   ]
  },
  {
   "cell_type": "markdown",
   "metadata": {},
   "source": [
    "## General formulas "
   ]
  },
  {
   "cell_type": "code",
   "execution_count": 2,
   "metadata": {},
   "outputs": [
    {
     "data": {
      "text/latex": [
       "$\\displaystyle A \\cos{\\left(\\sqrt{L_{0}} z \\right)} + B \\sin{\\left(\\sqrt{L_{0}} z \\right)}$"
      ],
      "text/plain": [
       "A*cos(sqrt(L_0)*z) + B*sin(sqrt(L_0)*z)"
      ]
     },
     "execution_count": 2,
     "metadata": {},
     "output_type": "execute_result"
    }
   ],
   "source": [
    "L0 = sy.Symbol(\"L_0\")\n",
    "Z2 = sy.Symbol(\"Z_2\")\n",
    "T1 = sy.Symbol(\"T_1\")\n",
    "T2 = sy.Symbol(\"T_2\")\n",
    "\n",
    "temperature = A*sy.cos(sy.sqrt(L0)*z) + B*sy.sin(sy.sqrt(L0)*z)\n",
    "temperature\n",
    "\n"
   ]
  },
  {
   "cell_type": "code",
   "execution_count": 3,
   "metadata": {},
   "outputs": [
    {
     "data": {
      "text/latex": [
       "$\\displaystyle T_{1} \\cos{\\left(\\sqrt{L_{0}} z \\right)} + \\frac{\\left(- T_{1} \\cos{\\left(\\sqrt{L_{0}} Z_{2} \\right)} + T_{2}\\right) \\sin{\\left(\\sqrt{L_{0}} z \\right)}}{\\sin{\\left(\\sqrt{L_{0}} Z_{2} \\right)}}$"
      ],
      "text/plain": [
       "T_1*cos(sqrt(L_0)*z) + (-T_1*cos(sqrt(L_0)*Z_2) + T_2)*sin(sqrt(L_0)*z)/sin(sqrt(L_0)*Z_2)"
      ]
     },
     "execution_count": 3,
     "metadata": {},
     "output_type": "execute_result"
    }
   ],
   "source": [
    "temp_bc = temperature.subs({\"A\": T1, \"B\": (T2-T1*sy.cos(sy.sqrt(L0)*Z2))/sy.sin(sy.sqrt(L0)*Z2)})\n",
    "temp_bc"
   ]
  },
  {
   "cell_type": "code",
   "execution_count": 4,
   "metadata": {},
   "outputs": [
    {
     "data": {
      "text/latex": [
       "$\\displaystyle \\frac{\\sqrt{L_{0}} \\left(- T_{1} \\cos{\\left(\\sqrt{L_{0}} Z_{2} \\right)} + T_{2}\\right)}{\\sin{\\left(\\sqrt{L_{0}} Z_{2} \\right)}}$"
      ],
      "text/plain": [
       "sqrt(L_0)*(-T_1*cos(sqrt(L_0)*Z_2) + T_2)/sin(sqrt(L_0)*Z_2)"
      ]
     },
     "execution_count": 4,
     "metadata": {},
     "output_type": "execute_result"
    }
   ],
   "source": [
    "WoverI = sy.diff(temp_bc, z).subs({\"z\":0})\n",
    "WoverI "
   ]
  },
  {
   "cell_type": "code",
   "execution_count": 5,
   "metadata": {},
   "outputs": [
    {
     "data": {
      "text/latex": [
       "$\\displaystyle \\frac{\\sqrt{L_{0}} \\left(- T_{1} + T_{2} \\cos{\\left(\\sqrt{L_{0}} Z_{2} \\right)}\\right)}{\\sin{\\left(\\sqrt{L_{0}} Z_{2} \\right)}}$"
      ],
      "text/plain": [
       "sqrt(L_0)*(-T_1 + T_2*cos(sqrt(L_0)*Z_2))/sin(sqrt(L_0)*Z_2)"
      ]
     },
     "execution_count": 5,
     "metadata": {},
     "output_type": "execute_result"
    }
   ],
   "source": [
    "WoverI_T2 = sy.diff(temp_bc, z).subs({\"z\":Z2}).simplify()\n",
    "WoverI_T2"
   ]
  },
  {
   "cell_type": "code",
   "execution_count": 6,
   "metadata": {},
   "outputs": [
    {
     "data": {
      "text/latex": [
       "$\\displaystyle \\frac{L_{0} \\left(T_{1} - T_{2} \\cos{\\left(\\sqrt{L_{0}} Z_{2} \\right)}\\right)}{\\sin^{2}{\\left(\\sqrt{L_{0}} Z_{2} \\right)}}$"
      ],
      "text/plain": [
       "L_0*(T_1 - T_2*cos(sqrt(L_0)*Z_2))/sin(sqrt(L_0)*Z_2)**2"
      ]
     },
     "execution_count": 6,
     "metadata": {},
     "output_type": "execute_result"
    }
   ],
   "source": [
    "WoverI_prime = sy.simplify(sy.diff(WoverI, Z2))\n",
    "WoverI_prime"
   ]
  },
  {
   "cell_type": "code",
   "execution_count": 7,
   "metadata": {},
   "outputs": [
    {
     "data": {
      "text/latex": [
       "$\\displaystyle \\frac{\\operatorname{acos}{\\left(\\frac{T_{1}}{T_{2}} \\right)}}{\\sqrt{L_{0}}}$"
      ],
      "text/plain": [
       "acos(T_1/T_2)/sqrt(L_0)"
      ]
     },
     "execution_count": 7,
     "metadata": {},
     "output_type": "execute_result"
    }
   ],
   "source": [
    "Z2sols = sy.solve(WoverI_prime, Z2)\n",
    "Z2_opt = Z2sols[1]\n",
    "Z2_opt"
   ]
  },
  {
   "cell_type": "code",
   "execution_count": 8,
   "metadata": {},
   "outputs": [
    {
     "data": {
      "text/latex": [
       "$\\displaystyle 0$"
      ],
      "text/plain": [
       "0"
      ]
     },
     "execution_count": 8,
     "metadata": {},
     "output_type": "execute_result"
    }
   ],
   "source": [
    "WoverI_T2.subs({\"Z_2\":Z2_opt}) # no power absorbed at hot end in the optimized setup!"
   ]
  },
  {
   "cell_type": "code",
   "execution_count": 9,
   "metadata": {},
   "outputs": [
    {
     "data": {
      "text/latex": [
       "$\\displaystyle T_{1} \\cos{\\left(\\sqrt{L_{0}} z \\right)} + \\frac{\\left(- \\frac{T_{1}^{2}}{T_{2}} + T_{2}\\right) \\sin{\\left(\\sqrt{L_{0}} z \\right)}}{\\sqrt{- \\frac{T_{1}^{2}}{T_{2}^{2}} + 1}}$"
      ],
      "text/plain": [
       "T_1*cos(sqrt(L_0)*z) + (-T_1**2/T_2 + T_2)*sin(sqrt(L_0)*z)/sqrt(-T_1**2/T_2**2 + 1)"
      ]
     },
     "execution_count": 9,
     "metadata": {},
     "output_type": "execute_result"
    }
   ],
   "source": [
    "temp_Z2optimized = temp_bc.subs({\"Z_2\":Z2_opt})\n",
    "temp_Z2optimized"
   ]
  },
  {
   "cell_type": "code",
   "execution_count": 10,
   "metadata": {},
   "outputs": [
    {
     "data": {
      "text/latex": [
       "$\\displaystyle - L_{0} T_{1} \\cos{\\left(\\sqrt{L_{0}} z \\right)} - \\frac{L_{0} \\left(- \\frac{T_{1}^{2}}{T_{2}} + T_{2}\\right) \\sin{\\left(\\sqrt{L_{0}} z \\right)}}{\\sqrt{- \\frac{T_{1}^{2}}{T_{2}^{2}} + 1}}$"
      ],
      "text/plain": [
       "-L_0*T_1*cos(sqrt(L_0)*z) - L_0*(-T_1**2/T_2 + T_2)*sin(sqrt(L_0)*z)/sqrt(-T_1**2/T_2**2 + 1)"
      ]
     },
     "execution_count": 10,
     "metadata": {},
     "output_type": "execute_result"
    }
   ],
   "source": [
    "temp_Z2optimized_second = sy.diff(sy.diff(temp_Z2optimized, z), z)\n",
    "temp_Z2optimized_second"
   ]
  },
  {
   "cell_type": "code",
   "execution_count": 11,
   "metadata": {},
   "outputs": [],
   "source": [
    "Z2opt_calc = sy.lambdify((T1, T2, L0), Z2_opt)\n",
    "temp_Z2optimized_calc = sy.lambdify((z, T1, T2, L0), temp_Z2optimized)\n",
    "WoverI_Z2optimized_calc = sy.lambdify((T1,T2,L0), WoverI.subs({\"Z_2\":Z2_opt}))\n",
    "WoverI_T2_Z2optimized_calc = sy.lambdify((T1,T2,L0), WoverI_T2.subs({\"Z_2\":Z2_opt}))\n",
    "temp_Z2optimized_second_calc = sy.lambdify((z, T1, T2, L0), temp_Z2optimized_second)"
   ]
  },
  {
   "cell_type": "markdown",
   "metadata": {},
   "source": [
    "### Copper conducibility data"
   ]
  },
  {
   "cell_type": "code",
   "execution_count": 12,
   "metadata": {},
   "outputs": [],
   "source": [
    "lambda_data = np.loadtxt(\"../LASA/papers/copper thermal conductivity Powell Roder 1959.txt\", unpack=True)\n",
    "lambda_data[1] *= 100 \n",
    "lambda_calc = PchipInterpolator(*lambda_data, extrapolate=True)\n"
   ]
  },
  {
   "cell_type": "code",
   "execution_count": 13,
   "metadata": {},
   "outputs": [
    {
     "data": {
      "image/png": "[encoded data removed]",
      "text/plain": [
       "<Figure size 640x480 with 1 Axes>"
      ]
     },
     "metadata": {},
     "output_type": "display_data"
    }
   ],
   "source": [
    "Ts = np.linspace(0, 300, 300)\n",
    "plt.plot(Ts, lambda_calc(Ts))\n",
    "_= plt.title(\"Thermal conducibility k(T)\\n\" + r\"99.999% Cu, 26% elongated, Powell and Roder, 1959\")\n",
    "_= plt.ylabel(\"k[$W/(m\\cdot K)$]\")\n",
    "_= plt.xlabel(\"T[$K$]\")"
   ]
  },
  {
   "cell_type": "markdown",
   "metadata": {},
   "source": [
    "### Data from MAT PRO (brass)"
   ]
  },
  {
   "cell_type": "code",
   "execution_count": 23,
   "metadata": {},
   "outputs": [
    {
     "name": "stdout",
     "output_type": "stream",
     "text": [
      "thermal conductivity\n",
      "electrical resistivity\n",
      "electrical resistivity\n"
     ]
    }
   ],
   "source": [
    "properties = {1: \"specific heat\",\n",
    "2: \"electrical resistivity\",\n",
    "3: \"thermal conductivity\",\n",
    "4:\"density\"}\n",
    "\n",
    "datanames =  [\"igrand\",  \"nfl\",  \"idir\", \"rrr\", \"magnetic field\", \"temperature\", \"value\"]\n",
    "\n",
    "\n",
    "conductivity_filename = \"../LASA/Programs/brass_conductivity_MATPRO.txt\"\n",
    "resisitivity_filename = \"../LASA/Programs/Brass_resistivity_MATPRO.txt\"\n",
    "resistivity_copper_filename = \"../LASA/Programs/copper_resistivity_MATPRO.txt\"\n",
    "conductivity_filename_COMSOL = \"../LASA/Programs/thermal_conductivity_Cu_RRR100_COMSOL.txt\"\n",
    "\n",
    "def get_Matpro_data(filename):\n",
    "    with open(filename) as infile:\n",
    "        for i in range(10): #read maximum 10 lines searching data beginning\n",
    "            line = infile.readline()\n",
    "            \n",
    "            try:\n",
    "                assert line == \" igrand  nfl  idir        rrr   magnetic field  temperature\\n\"\n",
    "                data = np.loadtxt(infile, unpack = True)\n",
    "                break \n",
    "            except (AssertionError, IndexError):\n",
    "                continue\n",
    "            \n",
    "\n",
    "    datadict = {name:values for name, values in zip(datanames, data)}\n",
    "    phyis_property = properties[datadict[\"igrand\"][0]]\n",
    "    print (phyis_property)\n",
    "    #print (datadict.keys())\n",
    "    MATPRO_data = np.array([datadict[\"temperature\"], datadict[\"value\"]])\n",
    "\n",
    "    return MATPRO_data\n",
    "\n",
    "def get_COMSOL_data(filename, names=[\"T\", \"k\"]):\n",
    "\n",
    "    with open(filename) as infile:\n",
    "        for i in range(10): #read maximum 10 lines searching data beginning\n",
    "            line = infile.readline()\n",
    "            try:\n",
    "                if line[0] != \"%\":\n",
    "                    break\n",
    "            except IndexError:\n",
    "                continue\n",
    "        data = np.loadtxt(infile, unpack = True)\n",
    "            \n",
    "\n",
    "    #datadict = {name:values for name, values in zip(names, data)}\n",
    "    \n",
    "    COMSOL_data = data #np.array([datadict[\"temperature\"], datadict[\"value\"]])\n",
    "\n",
    "    return COMSOL_data\n",
    "\n",
    "\n",
    "\n",
    "MATPRO_brass = get_Matpro_data(conductivity_filename)\n",
    "MATPRO_brass_resistance = get_Matpro_data(resisitivity_filename)\n",
    "MATPRO_copper_resistance = get_Matpro_data(resistivity_copper_filename)\n",
    "COMSOL_copper = get_COMSOL_data(conductivity_filename_COMSOL)\n",
    "\n",
    "\n",
    "\n",
    " "
   ]
  },
  {
   "cell_type": "markdown",
   "metadata": {},
   "source": [
    "## Final formulas for area / length calculations"
   ]
  },
  {
   "cell_type": "code",
   "execution_count": 15,
   "metadata": {},
   "outputs": [],
   "source": [
    "def IX2overA(T1_, T2_, L0_, Zmax = None, kofT=None):\n",
    "    if Zmax is None:\n",
    "        Zmax = Z2opt_calc(T1_, T2_, L0_)\n",
    "    if kofT is None:\n",
    "        kofT = lambda_calc\n",
    "    return quad(lambda z_: kofT(temp_Z2optimized_calc(z_, T1_, T2_, L0_)), 0, Zmax)\n",
    "\n",
    "def CircleArea(r=None, d=None):\n",
    "    if r is not None:\n",
    "        assert d is  None\n",
    "        return np.pi*r**2\n",
    "    else:\n",
    "        assert d is not None\n",
    "        return np.pi*(d/2)**2\n",
    "    \n",
    "\n"
   ]
  },
  {
   "cell_type": "markdown",
   "metadata": {},
   "source": [
    "## Integrated class for performing all the relevant calculations"
   ]
  },
  {
   "cell_type": "code",
   "execution_count": 25,
   "metadata": {},
   "outputs": [],
   "source": [
    "from utils import circle\n",
    "\n",
    "class optimal_ratios_calculator:\n",
    "    def __init__(self, T1_value, T2_value, L0_value=2.45e-8, data = lambda_data, resdata=None):\n",
    "        self._T1 = T1_value       \n",
    "        self._T2 = T2_value\n",
    "        self._L0 = L0_value\n",
    "        self._conductivity = PchipInterpolator(*data, extrapolate=True)\n",
    "        self._data = data \n",
    "\n",
    "        if resdata is  not None:\n",
    "            self._resdata = resdata\n",
    "            self._resistivity = PchipInterpolator(*resdata, extrapolate=True)\n",
    "        \n",
    "\n",
    "    def get_ratios(self, I, x=None, section_args=[], section_kwargs={}):\n",
    "        \n",
    "        xOverA = IX2overA(self._T1, self._T2, self._L0, kofT=self._conductivity)[0] / I\n",
    "        WoverI_value = WoverI_Z2optimized_calc(self._T1, self._T2, self._L0)\n",
    "        W_value = WoverI_value*I\n",
    "\n",
    "        self._I = I \n",
    "\n",
    "        results = {\"W/I\":WoverI_value, \"W\":W_value, \"x/A\":xOverA}\n",
    "        \n",
    "        isgiven = np.array([x is not None, bool(section_args) or bool(section_kwargs)])\n",
    "        if np.sum(isgiven) > 1:\n",
    "            print (\"Overdetermined system, please only enter either the cable section or its length\")\n",
    "        elif np.sum(isgiven) == 1:\n",
    "            if isgiven[1]:\n",
    "                section = circle(*section_args, **section_kwargs)\n",
    "                x = xOverA*section.A()\n",
    "            else:\n",
    "                section = circle(area=x/xOverA) \n",
    "\n",
    "            self._section = section\n",
    "\n",
    "            section.lock()\n",
    "            results[\"section\"] = section\n",
    "            results[\"x\"] = x\n",
    "\n",
    "        return results \n",
    "    \n",
    "\n",
    "    def power_contributions(self, I=None, A=None):\n",
    "        if I is None:\n",
    "            I = self._I\n",
    "        if A is  None:\n",
    "            A = self._section.A()\n",
    "        \n",
    "        thermal_power = I**2/A * quad(lambda z_: temp_Z2optimized_second_calc(z_, self._T1, self._T2, self._L0) /\n",
    "                                     self._conductivity(temp_Z2optimized_calc(z_, self._T1, self._T2, self._L0)), 0, Z2opt_calc(self._T1, self._T2, self._L0))[0]\n",
    "        dissipation_power =  I**2/A * quad(lambda z_  : self._resistivity(temp_Z2optimized_calc(z_, self._T1, self._T2, self._L0)), 0, Z2opt_calc(self._T1, self._T2, self._L0))[0]\n",
    "\n",
    "        return thermal_power, dissipation_power\n",
    "    \n",
    "\n",
    "    def temperature_profile(self, show=True, ret = False):\n",
    "        zs = np.linspace(0, Z2opt_calc(self._T1, self._T2, self._L0))\n",
    "        Ts = temp_Z2optimized_calc(zs, self._T1, self._T2, self._L0)\n",
    "        xs = np.array([0] + [IX2overA(self._T1, self._T2, self._L0, z2)[0] for z2 in zs[1:] ]) * self._section.A()/self._I\n",
    "\n",
    "        _, ax = plt.subplots()\n",
    "        _=ax.plot(xs*1000, Ts)\n",
    "        _=ax.set_xlabel(\"x[mm]\")\n",
    "        _=ax.set_ylabel(\"T[K]\")\n",
    "        _=ax.set_title(\"Temperature profile\")\n",
    "\n",
    "\n",
    "        if not show:\n",
    "            plt.close()\n",
    "        \n",
    "        if ret:\n",
    "            return ax\n",
    "        \n",
    "    def plot_conductivity(self, T_range=[], npoints=300): #diagnostic plot of the data used for the thermal conductivity interpolation\n",
    "        match len(T_range):\n",
    "            case 0:\n",
    "                Ts, ks = self._data\n",
    "            case 2:\n",
    "                T1_ = np.float64(T_range[0])\n",
    "                T2_ = np.float64(T_range[1])\n",
    "                assert T1_<T2_\n",
    "                Ts = np.linspace(T1_, T2_, npoints)\n",
    "                ks = self._conductivity(Ts)\n",
    "            case _:\n",
    "                raise ValueError(\"T_range must be either empty (plot source data) or a 2 element list [Tmin, Tmax]\")\n",
    "            \n",
    "        \n",
    "        _, ax = plt.subplots()\n",
    "        _=ax.plot(Ts, ks)\n",
    "        _=ax.set_xlabel(\"T[K]\")\n",
    "        _=ax.set_ylabel(\"k[$W/(m\\cdot K)$]\")\n",
    "        _=ax.set_title(\"Thermal conductivity\")\n",
    "\n",
    "    \n",
    "\n",
    "\n",
    "\n",
    "                    \n"
   ]
  },
  {
   "cell_type": "markdown",
   "metadata": {},
   "source": [
    "### Sample calculation"
   ]
  },
  {
   "cell_type": "code",
   "execution_count": 26,
   "metadata": {},
   "outputs": [
    {
     "data": {
      "text/plain": [
       "8749.021048071902"
      ]
     },
     "execution_count": 26,
     "metadata": {},
     "output_type": "execute_result"
    }
   ],
   "source": [
    "Z2opt_calc(60, 300, 2.45e-8)"
   ]
  },
  {
   "cell_type": "code",
   "execution_count": 28,
   "metadata": {},
   "outputs": [
    {
     "name": "stdout",
     "output_type": "stream",
     "text": [
      "I: 500\n",
      "{'W/I': 0.04630064794363034, 'W': 23.15032397181517, 'x/A': 7663.571821879469, 'x': 2.4075820935874286}\n",
      "thermal power: (-91132.91853042664, 81367.30634752807)\n",
      "{'r': 0.01, 'd': 0.02, 'A': 0.0003141592653589793}\n"
     ]
    },
    {
     "data": {
      "image/png": "[encoded data removed]",
      "text/plain": [
       "<Figure size 640x480 with 1 Axes>"
      ]
     },
     "metadata": {},
     "output_type": "display_data"
    },
    {
     "data": {
      "image/png": "[encoded data removed]",
      "text/plain": [
       "<Figure size 640x480 with 1 Axes>"
      ]
     },
     "metadata": {},
     "output_type": "display_data"
    }
   ],
   "source": [
    "T1_value = 50\n",
    "T2_value = 300\n",
    "\n",
    "I = 500\n",
    "\n",
    "orc = optimal_ratios_calculator(T1_value,T2_value, data=COMSOL_copper, resdata=MATPRO_copper_resistance)\n",
    "\n",
    "results = orc.get_ratios(I, section_kwargs={\"radius\":0.01})\n",
    "sec = results[\"section\"]\n",
    "\n",
    "thermal_power = orc.power_contributions()\n",
    "\n",
    "print(\"I:\", I)\n",
    "print ({key:value for key, value in results.items() if key != \"section\"})\n",
    "print (\"thermal power:\", thermal_power)\n",
    "print ({key:value for key, value in zip([\"r\", \"d\", \"A\"], [sec.r(), sec.d(), sec.A()])})\n",
    "\n",
    "\n",
    "orc.temperature_profile()\n",
    "\n",
    "orc.plot_conductivity()\n",
    "\n"
   ]
  },
  {
   "cell_type": "code",
   "execution_count": 50,
   "metadata": {},
   "outputs": [],
   "source": [
    "from scipy.integrate import solve_bvp\n",
    "\n",
    "L0_value=2.45e-8\n",
    "\n",
    "copper_res_interp = PchipInterpolator(*MATPRO_copper_resistance)\n",
    "\n",
    "\n",
    "def Lorenz(T):\n",
    "    return copper_res_interp(T)*lambda_calc(T)\n",
    "\n",
    "\n",
    "T1_value = 60\n",
    "T2_value = 300\n",
    "\n",
    "Z2_value = 1\n",
    "grid_size = 100\n",
    "\n",
    "def differential_callback(z, T):\n",
    "    return np.array([T[1], -Lorenz(T[0])])\n",
    "\n",
    "def bc_callback(Ta, Tb):\n",
    "    return np.array([Ta[0]-T1_value, Tb[0]-T2_value])\n",
    "\n",
    "\n",
    "zstart = np.linspace(0, Z2_value, grid_size)\n",
    "Tstart = np.linspace(T1_value, T2_value, grid_size)\n",
    "\n",
    "Tslope = np.full(Tstart.shape, (T2_value-T1_value)/Z2_value)\n",
    "\n",
    "\n",
    "\n",
    "result = solve_bvp( differential_callback, bc_callback, zstart, np.array([Tstart, Tslope]))"
   ]
  },
  {
   "cell_type": "code",
   "execution_count": 51,
   "metadata": {},
   "outputs": [
    {
     "name": "stdout",
     "output_type": "stream",
     "text": [
      "       message: The algorithm converged to the desired accuracy.\n",
      "       success: True\n",
      "        status: 0\n",
      "             x: [ 0.000e+00  1.010e-02 ...  9.899e-01  1.000e+00]\n",
      "           sol: <scipy.interpolate._interpolate.PPoly object at 0x000002B9925F35B0>\n",
      "             p: None\n",
      "             y: [[ 6.000e+01  6.242e+01 ...  2.976e+02  3.000e+02]\n",
      "                 [ 2.400e+02  2.400e+02 ...  2.400e+02  2.400e+02]]\n",
      "            yp: [[ 2.400e+02  2.400e+02 ...  2.400e+02  2.400e+02]\n",
      "                 [-6.696e-07 -7.209e-07 ... -6.567e-06 -6.606e-06]]\n",
      " rms_residuals: [ 4.752e-12  1.328e-11 ...  1.854e-12  7.170e-13]\n",
      "         niter: 1\n"
     ]
    }
   ],
   "source": [
    "print(result)"
   ]
  },
  {
   "cell_type": "code",
   "execution_count": 52,
   "metadata": {},
   "outputs": [
    {
     "data": {
      "text/plain": [
       "[<matplotlib.lines.Line2D at 0x2b992683100>]"
      ]
     },
     "execution_count": 52,
     "metadata": {},
     "output_type": "execute_result"
    },
    {
     "data": {
      "image/png": "[encoded data removed]",
      "text/plain": [
       "<Figure size 640x480 with 1 Axes>"
      ]
     },
     "metadata": {},
     "output_type": "display_data"
    }
   ],
   "source": [
    "plt.plot(Tstart, Lorenz(Tstart))"
   ]
  },
  {
   "cell_type": "code",
   "execution_count": null,
   "metadata": {},
   "outputs": [],
   "source": [
    "(\"../LASA/Programs/copper_resistivity_MATPRO.txt\")"
   ]
  }
 ],
 "metadata": {
  "kernelspec": {
   "display_name": "Python 3",
   "language": "python",
   "name": "python3"
  },
  "language_info": {
   "codemirror_mode": {
    "name": "ipython",
    "version": 3
   },
   "file_extension": ".py",
   "mimetype": "text/x-python",
   "name": "python",
   "nbconvert_exporter": "python",
   "pygments_lexer": "ipython3",
   "version": "3.10.10"
  },
  "orig_nbformat": 4
 },
 "nbformat": 4,
 "nbformat_minor": 2
}
